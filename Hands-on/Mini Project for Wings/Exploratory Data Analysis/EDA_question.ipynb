{
 "cells": [
  {
   "cell_type": "markdown",
   "metadata": {},
   "source": [
    "### Directions\n",
    "    - The data required for this task has been provided in the file 'data.csv'\n",
    "    - Read the questions provided for each cell and assign your answers to respective variables provided in the following cell.\n",
    "    - If answers are floating point numbers round of updo two floating point after the decimal\n",
    "      - for example 10.546 should be read as 10.55, 10.544 as 10.54 and 10.1 as 10.10\n",
    "    - pandas and numpy packages are preinstalled for this task which should be sufficient to complete this task.\n",
    "    - If you need any other additional package run !pip3 install <package_name> --user in a new cell.\n",
    "    - You can either try out the solution in the same notebook or free to create additional notebook, but make sure you come back to this notebook to answer the questions.\n",
    "    - Please dont change variable name meant to assign your answers.\n",
    "    - You can create a new notebook to write your scripts for EDA and use this notebook to assign the answers."
   ]
  },
  {
   "cell_type": "code",
   "execution_count": 1,
   "metadata": {},
   "outputs": [],
   "source": [
    "import pandas as pd\n",
    "import numpy as np"
   ]
  },
  {
   "cell_type": "code",
   "execution_count": 2,
   "metadata": {},
   "outputs": [
    {
     "data": {
      "text/html": [
       "<div>\n",
       "<style scoped>\n",
       "    .dataframe tbody tr th:only-of-type {\n",
       "        vertical-align: middle;\n",
       "    }\n",
       "\n",
       "    .dataframe tbody tr th {\n",
       "        vertical-align: top;\n",
       "    }\n",
       "\n",
       "    .dataframe thead th {\n",
       "        text-align: right;\n",
       "    }\n",
       "</style>\n",
       "<table border=\"1\" class=\"dataframe\">\n",
       "  <thead>\n",
       "    <tr style=\"text-align: right;\">\n",
       "      <th></th>\n",
       "      <th>Day</th>\n",
       "      <th>Average temperature (°F)</th>\n",
       "      <th>Average humidity (%)</th>\n",
       "      <th>Average dewpoint (°F)</th>\n",
       "      <th>Average barometer (in)</th>\n",
       "      <th>Average windspeed (mph)</th>\n",
       "      <th>Average gustspeed (mph)</th>\n",
       "      <th>Average direction (°deg)</th>\n",
       "      <th>Rainfall for month (in)</th>\n",
       "      <th>Rainfall for year (in)</th>\n",
       "      <th>Maximum rain per minute</th>\n",
       "      <th>Maximum temperature (°F)</th>\n",
       "      <th>Minimum temperature (°F)</th>\n",
       "      <th>Maximum humidity (%)</th>\n",
       "      <th>Minimum humidity (%)</th>\n",
       "      <th>Maximum pressure</th>\n",
       "      <th>Minimum pressure</th>\n",
       "      <th>Maximum windspeed (mph)</th>\n",
       "      <th>Maximum gust speed (mph)</th>\n",
       "      <th>Maximum heat index (°F)</th>\n",
       "    </tr>\n",
       "  </thead>\n",
       "  <tbody>\n",
       "    <tr>\n",
       "      <th>0</th>\n",
       "      <td>1/01/2009</td>\n",
       "      <td>37.8</td>\n",
       "      <td>35</td>\n",
       "      <td>12.7</td>\n",
       "      <td>29.7</td>\n",
       "      <td>26.4</td>\n",
       "      <td>36.8</td>\n",
       "      <td>274</td>\n",
       "      <td>0.0</td>\n",
       "      <td>0.0</td>\n",
       "      <td>0.0</td>\n",
       "      <td>40.1</td>\n",
       "      <td>34.5</td>\n",
       "      <td>44</td>\n",
       "      <td>27</td>\n",
       "      <td>29.762</td>\n",
       "      <td>29.596</td>\n",
       "      <td>41.4</td>\n",
       "      <td>59.0</td>\n",
       "      <td>40.1</td>\n",
       "    </tr>\n",
       "    <tr>\n",
       "      <th>1</th>\n",
       "      <td>2/01/2009</td>\n",
       "      <td>43.2</td>\n",
       "      <td>32</td>\n",
       "      <td>14.7</td>\n",
       "      <td>29.5</td>\n",
       "      <td>12.8</td>\n",
       "      <td>18.0</td>\n",
       "      <td>240</td>\n",
       "      <td>0.0</td>\n",
       "      <td>0.0</td>\n",
       "      <td>0.0</td>\n",
       "      <td>52.8</td>\n",
       "      <td>37.5</td>\n",
       "      <td>43</td>\n",
       "      <td>16</td>\n",
       "      <td>29.669</td>\n",
       "      <td>29.268</td>\n",
       "      <td>35.7</td>\n",
       "      <td>51.0</td>\n",
       "      <td>52.8</td>\n",
       "    </tr>\n",
       "    <tr>\n",
       "      <th>2</th>\n",
       "      <td>3/01/2009</td>\n",
       "      <td>25.7</td>\n",
       "      <td>60</td>\n",
       "      <td>12.7</td>\n",
       "      <td>29.7</td>\n",
       "      <td>8.3</td>\n",
       "      <td>12.2</td>\n",
       "      <td>290</td>\n",
       "      <td>0.0</td>\n",
       "      <td>0.0</td>\n",
       "      <td>0.0</td>\n",
       "      <td>41.2</td>\n",
       "      <td>6.7</td>\n",
       "      <td>89</td>\n",
       "      <td>35</td>\n",
       "      <td>30.232</td>\n",
       "      <td>29.260</td>\n",
       "      <td>25.3</td>\n",
       "      <td>38.0</td>\n",
       "      <td>41.2</td>\n",
       "    </tr>\n",
       "    <tr>\n",
       "      <th>3</th>\n",
       "      <td>4/01/2009</td>\n",
       "      <td>9.3</td>\n",
       "      <td>67</td>\n",
       "      <td>0.1</td>\n",
       "      <td>30.4</td>\n",
       "      <td>2.9</td>\n",
       "      <td>4.5</td>\n",
       "      <td>47</td>\n",
       "      <td>0.0</td>\n",
       "      <td>0.0</td>\n",
       "      <td>0.0</td>\n",
       "      <td>19.4</td>\n",
       "      <td>-0.0</td>\n",
       "      <td>79</td>\n",
       "      <td>35</td>\n",
       "      <td>30.566</td>\n",
       "      <td>30.227</td>\n",
       "      <td>12.7</td>\n",
       "      <td>20.0</td>\n",
       "      <td>32.0</td>\n",
       "    </tr>\n",
       "    <tr>\n",
       "      <th>4</th>\n",
       "      <td>5/01/2009</td>\n",
       "      <td>23.5</td>\n",
       "      <td>30</td>\n",
       "      <td>-5.3</td>\n",
       "      <td>29.9</td>\n",
       "      <td>16.7</td>\n",
       "      <td>23.1</td>\n",
       "      <td>265</td>\n",
       "      <td>0.0</td>\n",
       "      <td>0.0</td>\n",
       "      <td>0.0</td>\n",
       "      <td>30.3</td>\n",
       "      <td>15.1</td>\n",
       "      <td>56</td>\n",
       "      <td>13</td>\n",
       "      <td>30.233</td>\n",
       "      <td>29.568</td>\n",
       "      <td>38.0</td>\n",
       "      <td>53.0</td>\n",
       "      <td>32.0</td>\n",
       "    </tr>\n",
       "  </tbody>\n",
       "</table>\n",
       "</div>"
      ],
      "text/plain": [
       "         Day  Average temperature (°F)  Average humidity (%)  \\\n",
       "0  1/01/2009                      37.8                    35   \n",
       "1  2/01/2009                      43.2                    32   \n",
       "2  3/01/2009                      25.7                    60   \n",
       "3  4/01/2009                       9.3                    67   \n",
       "4  5/01/2009                      23.5                    30   \n",
       "\n",
       "   Average dewpoint (°F)  Average barometer (in)  Average windspeed (mph)  \\\n",
       "0                   12.7                    29.7                     26.4   \n",
       "1                   14.7                    29.5                     12.8   \n",
       "2                   12.7                    29.7                      8.3   \n",
       "3                    0.1                    30.4                      2.9   \n",
       "4                   -5.3                    29.9                     16.7   \n",
       "\n",
       "   Average gustspeed (mph)  Average direction (°deg)  Rainfall for month (in)  \\\n",
       "0                     36.8                       274                      0.0   \n",
       "1                     18.0                       240                      0.0   \n",
       "2                     12.2                       290                      0.0   \n",
       "3                      4.5                        47                      0.0   \n",
       "4                     23.1                       265                      0.0   \n",
       "\n",
       "   Rainfall for year (in)  Maximum rain per minute   Maximum temperature (°F)  \\\n",
       "0                     0.0                       0.0                      40.1   \n",
       "1                     0.0                       0.0                      52.8   \n",
       "2                     0.0                       0.0                      41.2   \n",
       "3                     0.0                       0.0                      19.4   \n",
       "4                     0.0                       0.0                      30.3   \n",
       "\n",
       "   Minimum temperature (°F)  Maximum humidity (%)  Minimum humidity (%)  \\\n",
       "0                      34.5                    44                    27   \n",
       "1                      37.5                    43                    16   \n",
       "2                       6.7                    89                    35   \n",
       "3                      -0.0                    79                    35   \n",
       "4                      15.1                    56                    13   \n",
       "\n",
       "   Maximum pressure   Minimum pressure   Maximum windspeed (mph)  \\\n",
       "0             29.762             29.596                     41.4   \n",
       "1             29.669             29.268                     35.7   \n",
       "2             30.232             29.260                     25.3   \n",
       "3             30.566             30.227                     12.7   \n",
       "4             30.233             29.568                     38.0   \n",
       "\n",
       "   Maximum gust speed (mph)  Maximum heat index (°F)  \n",
       "0                      59.0                     40.1  \n",
       "1                      51.0                     52.8  \n",
       "2                      38.0                     41.2  \n",
       "3                      20.0                     32.0  \n",
       "4                      53.0                     32.0  "
      ]
     },
     "execution_count": 2,
     "metadata": {},
     "output_type": "execute_result"
    }
   ],
   "source": [
    "### Read the data (this will not be graded)\n",
    "\n",
    "\n",
    "data = pd.read_csv('data.csv')\n",
    "data.head()"
   ]
  },
  {
   "cell_type": "markdown",
   "metadata": {},
   "source": [
    "### What is the standard deviation of maximum windspeed across all the days"
   ]
  },
  {
   "cell_type": "code",
   "execution_count": 3,
   "metadata": {},
   "outputs": [
    {
     "data": {
      "text/plain": [
       "13.05888392159811"
      ]
     },
     "execution_count": 3,
     "metadata": {},
     "output_type": "execute_result"
    }
   ],
   "source": [
    "np.std(data['Maximum windspeed (mph)'])"
   ]
  },
  {
   "cell_type": "code",
   "execution_count": 4,
   "metadata": {},
   "outputs": [],
   "source": [
    "ws_std = 13.06"
   ]
  },
  {
   "cell_type": "markdown",
   "metadata": {},
   "source": [
    "### What is the difference between 50th percentile and 75th percentile of average temperature"
   ]
  },
  {
   "cell_type": "code",
   "execution_count": 6,
   "metadata": {},
   "outputs": [
    {
     "data": {
      "text/plain": [
       "12.200000000000003"
      ]
     },
     "execution_count": 6,
     "metadata": {},
     "output_type": "execute_result"
    }
   ],
   "source": [
    "np.percentile(data['Average temperature (°F)'],75)-np.percentile(data['Average temperature (°F)'],50)"
   ]
  },
  {
   "cell_type": "code",
   "execution_count": 7,
   "metadata": {},
   "outputs": [],
   "source": [
    "p_range = 12.2"
   ]
  },
  {
   "cell_type": "markdown",
   "metadata": {},
   "source": [
    "### What is the pearson correlation between average dew point and average temperature"
   ]
  },
  {
   "cell_type": "code",
   "execution_count": 8,
   "metadata": {},
   "outputs": [
    {
     "data": {
      "text/plain": [
       "0.7596091253567396"
      ]
     },
     "execution_count": 8,
     "metadata": {},
     "output_type": "execute_result"
    }
   ],
   "source": [
    "np.corrcoef(data['Average dewpoint (°F)'],data['Average temperature (°F)'])[0][1]"
   ]
  },
  {
   "cell_type": "code",
   "execution_count": 9,
   "metadata": {},
   "outputs": [],
   "source": [
    "corr = 0.76"
   ]
  },
  {
   "cell_type": "markdown",
   "metadata": {},
   "source": [
    "### Out of all the available records which month has the lowest average humidity.\n",
    "    - Assign your answer as month index, for example if its July index is 7"
   ]
  },
  {
   "cell_type": "code",
   "execution_count": 10,
   "metadata": {},
   "outputs": [],
   "source": [
    "data['Day'] = pd.to_datetime(data.Day,dayfirst=True)\n",
    "data['year'] = data.Day.dt.year\n",
    "data['month'] = data.Day.dt.month\n",
    "data['date'] = data.Day.dt.day"
   ]
  },
  {
   "cell_type": "code",
   "execution_count": 11,
   "metadata": {},
   "outputs": [
    {
     "data": {
      "text/html": [
       "<div>\n",
       "<style scoped>\n",
       "    .dataframe tbody tr th:only-of-type {\n",
       "        vertical-align: middle;\n",
       "    }\n",
       "\n",
       "    .dataframe tbody tr th {\n",
       "        vertical-align: top;\n",
       "    }\n",
       "\n",
       "    .dataframe thead th {\n",
       "        text-align: right;\n",
       "    }\n",
       "</style>\n",
       "<table border=\"1\" class=\"dataframe\">\n",
       "  <thead>\n",
       "    <tr style=\"text-align: right;\">\n",
       "      <th></th>\n",
       "      <th>Day</th>\n",
       "      <th>Average temperature (°F)</th>\n",
       "      <th>Average humidity (%)</th>\n",
       "      <th>Average dewpoint (°F)</th>\n",
       "      <th>Average barometer (in)</th>\n",
       "      <th>Average windspeed (mph)</th>\n",
       "      <th>Average gustspeed (mph)</th>\n",
       "      <th>Average direction (°deg)</th>\n",
       "      <th>Rainfall for month (in)</th>\n",
       "      <th>Rainfall for year (in)</th>\n",
       "      <th>...</th>\n",
       "      <th>Maximum humidity (%)</th>\n",
       "      <th>Minimum humidity (%)</th>\n",
       "      <th>Maximum pressure</th>\n",
       "      <th>Minimum pressure</th>\n",
       "      <th>Maximum windspeed (mph)</th>\n",
       "      <th>Maximum gust speed (mph)</th>\n",
       "      <th>Maximum heat index (°F)</th>\n",
       "      <th>year</th>\n",
       "      <th>month</th>\n",
       "      <th>date</th>\n",
       "    </tr>\n",
       "  </thead>\n",
       "  <tbody>\n",
       "    <tr>\n",
       "      <th>1300</th>\n",
       "      <td>2013-01-22</td>\n",
       "      <td>43.1</td>\n",
       "      <td>9</td>\n",
       "      <td>-11.9</td>\n",
       "      <td>30.0</td>\n",
       "      <td>16.8</td>\n",
       "      <td>24.0</td>\n",
       "      <td>245</td>\n",
       "      <td>0.00</td>\n",
       "      <td>0.00</td>\n",
       "      <td>...</td>\n",
       "      <td>14</td>\n",
       "      <td>6</td>\n",
       "      <td>30.100</td>\n",
       "      <td>29.931</td>\n",
       "      <td>35.7</td>\n",
       "      <td>46.0</td>\n",
       "      <td>50.9</td>\n",
       "      <td>2013</td>\n",
       "      <td>1</td>\n",
       "      <td>22</td>\n",
       "    </tr>\n",
       "    <tr>\n",
       "      <th>1301</th>\n",
       "      <td>2013-01-23</td>\n",
       "      <td>47.2</td>\n",
       "      <td>9</td>\n",
       "      <td>-8.9</td>\n",
       "      <td>30.0</td>\n",
       "      <td>10.5</td>\n",
       "      <td>15.3</td>\n",
       "      <td>253</td>\n",
       "      <td>0.00</td>\n",
       "      <td>0.00</td>\n",
       "      <td>...</td>\n",
       "      <td>15</td>\n",
       "      <td>6</td>\n",
       "      <td>30.074</td>\n",
       "      <td>29.906</td>\n",
       "      <td>26.5</td>\n",
       "      <td>35.7</td>\n",
       "      <td>56.7</td>\n",
       "      <td>2013</td>\n",
       "      <td>1</td>\n",
       "      <td>23</td>\n",
       "    </tr>\n",
       "    <tr>\n",
       "      <th>1619</th>\n",
       "      <td>2014-01-21</td>\n",
       "      <td>41.4</td>\n",
       "      <td>9</td>\n",
       "      <td>-13.9</td>\n",
       "      <td>30.1</td>\n",
       "      <td>17.5</td>\n",
       "      <td>24.8</td>\n",
       "      <td>246</td>\n",
       "      <td>0.03</td>\n",
       "      <td>0.03</td>\n",
       "      <td>...</td>\n",
       "      <td>75</td>\n",
       "      <td>5</td>\n",
       "      <td>30.248</td>\n",
       "      <td>29.916</td>\n",
       "      <td>33.4</td>\n",
       "      <td>49.5</td>\n",
       "      <td>49.4</td>\n",
       "      <td>2014</td>\n",
       "      <td>1</td>\n",
       "      <td>21</td>\n",
       "    </tr>\n",
       "  </tbody>\n",
       "</table>\n",
       "<p>3 rows × 23 columns</p>\n",
       "</div>"
      ],
      "text/plain": [
       "            Day  Average temperature (°F)  Average humidity (%)  \\\n",
       "1300 2013-01-22                      43.1                     9   \n",
       "1301 2013-01-23                      47.2                     9   \n",
       "1619 2014-01-21                      41.4                     9   \n",
       "\n",
       "      Average dewpoint (°F)  Average barometer (in)  Average windspeed (mph)  \\\n",
       "1300                  -11.9                    30.0                     16.8   \n",
       "1301                   -8.9                    30.0                     10.5   \n",
       "1619                  -13.9                    30.1                     17.5   \n",
       "\n",
       "      Average gustspeed (mph)  Average direction (°deg)  \\\n",
       "1300                     24.0                       245   \n",
       "1301                     15.3                       253   \n",
       "1619                     24.8                       246   \n",
       "\n",
       "      Rainfall for month (in)  Rainfall for year (in)  ...  \\\n",
       "1300                     0.00                    0.00  ...   \n",
       "1301                     0.00                    0.00  ...   \n",
       "1619                     0.03                    0.03  ...   \n",
       "\n",
       "      Maximum humidity (%)  Minimum humidity (%)  Maximum pressure   \\\n",
       "1300                    14                     6             30.100   \n",
       "1301                    15                     6             30.074   \n",
       "1619                    75                     5             30.248   \n",
       "\n",
       "      Minimum pressure   Maximum windspeed (mph)  Maximum gust speed (mph)  \\\n",
       "1300             29.931                     35.7                      46.0   \n",
       "1301             29.906                     26.5                      35.7   \n",
       "1619             29.916                     33.4                      49.5   \n",
       "\n",
       "      Maximum heat index (°F)  year  month  date  \n",
       "1300                     50.9  2013      1    22  \n",
       "1301                     56.7  2013      1    23  \n",
       "1619                     49.4  2014      1    21  \n",
       "\n",
       "[3 rows x 23 columns]"
      ]
     },
     "execution_count": 11,
     "metadata": {},
     "output_type": "execute_result"
    }
   ],
   "source": [
    "data[data['Average humidity (%)']==data['Average humidity (%)'].min()]"
   ]
  },
  {
   "cell_type": "code",
   "execution_count": 12,
   "metadata": {},
   "outputs": [],
   "source": [
    "dew_month = 1"
   ]
  },
  {
   "cell_type": "markdown",
   "metadata": {},
   "source": [
    "### Which month has the highest median for maximum_gust_speed out of all the available records. Also find the repective value\n",
    "    - hint: group by month"
   ]
  },
  {
   "cell_type": "code",
   "execution_count": 13,
   "metadata": {},
   "outputs": [
    {
     "data": {
      "text/html": [
       "<div>\n",
       "<style scoped>\n",
       "    .dataframe tbody tr th:only-of-type {\n",
       "        vertical-align: middle;\n",
       "    }\n",
       "\n",
       "    .dataframe tbody tr th {\n",
       "        vertical-align: top;\n",
       "    }\n",
       "\n",
       "    .dataframe thead tr th {\n",
       "        text-align: left;\n",
       "    }\n",
       "</style>\n",
       "<table border=\"1\" class=\"dataframe\">\n",
       "  <thead>\n",
       "    <tr>\n",
       "      <th></th>\n",
       "      <th>month</th>\n",
       "      <th>Maximum gust speed (mph)</th>\n",
       "    </tr>\n",
       "    <tr>\n",
       "      <th></th>\n",
       "      <th></th>\n",
       "      <th>median</th>\n",
       "    </tr>\n",
       "  </thead>\n",
       "  <tbody>\n",
       "    <tr>\n",
       "      <th>0</th>\n",
       "      <td>1</td>\n",
       "      <td>32.2</td>\n",
       "    </tr>\n",
       "    <tr>\n",
       "      <th>1</th>\n",
       "      <td>2</td>\n",
       "      <td>34.5</td>\n",
       "    </tr>\n",
       "    <tr>\n",
       "      <th>2</th>\n",
       "      <td>3</td>\n",
       "      <td>31.1</td>\n",
       "    </tr>\n",
       "    <tr>\n",
       "      <th>3</th>\n",
       "      <td>4</td>\n",
       "      <td>27.6</td>\n",
       "    </tr>\n",
       "    <tr>\n",
       "      <th>4</th>\n",
       "      <td>5</td>\n",
       "      <td>26.0</td>\n",
       "    </tr>\n",
       "    <tr>\n",
       "      <th>5</th>\n",
       "      <td>6</td>\n",
       "      <td>26.5</td>\n",
       "    </tr>\n",
       "    <tr>\n",
       "      <th>6</th>\n",
       "      <td>7</td>\n",
       "      <td>24.2</td>\n",
       "    </tr>\n",
       "    <tr>\n",
       "      <th>7</th>\n",
       "      <td>8</td>\n",
       "      <td>24.2</td>\n",
       "    </tr>\n",
       "    <tr>\n",
       "      <th>8</th>\n",
       "      <td>9</td>\n",
       "      <td>24.2</td>\n",
       "    </tr>\n",
       "    <tr>\n",
       "      <th>9</th>\n",
       "      <td>10</td>\n",
       "      <td>26.5</td>\n",
       "    </tr>\n",
       "    <tr>\n",
       "      <th>10</th>\n",
       "      <td>11</td>\n",
       "      <td>32.2</td>\n",
       "    </tr>\n",
       "    <tr>\n",
       "      <th>11</th>\n",
       "      <td>12</td>\n",
       "      <td>33.4</td>\n",
       "    </tr>\n",
       "  </tbody>\n",
       "</table>\n",
       "</div>"
      ],
      "text/plain": [
       "   month Maximum gust speed (mph)\n",
       "                           median\n",
       "0      1                     32.2\n",
       "1      2                     34.5\n",
       "2      3                     31.1\n",
       "3      4                     27.6\n",
       "4      5                     26.0\n",
       "5      6                     26.5\n",
       "6      7                     24.2\n",
       "7      8                     24.2\n",
       "8      9                     24.2\n",
       "9     10                     26.5\n",
       "10    11                     32.2\n",
       "11    12                     33.4"
      ]
     },
     "execution_count": 13,
     "metadata": {},
     "output_type": "execute_result"
    }
   ],
   "source": [
    "data.groupby('month').agg({'Maximum gust speed (mph)':['median']}).reset_index()"
   ]
  },
  {
   "cell_type": "code",
   "execution_count": 14,
   "metadata": {},
   "outputs": [],
   "source": [
    "max_gust_value = 34.5\n",
    "max_gust_month = 2"
   ]
  },
  {
   "cell_type": "markdown",
   "metadata": {},
   "source": [
    "### Determine the average temperature between the months of March 2010 to May 2012 (including both the months)"
   ]
  },
  {
   "cell_type": "code",
   "execution_count": 15,
   "metadata": {},
   "outputs": [
    {
     "name": "stderr",
     "output_type": "stream",
     "text": [
      "/home/user/.local/lib/python3.5/site-packages/ipykernel_launcher.py:1: UserWarning: Boolean Series key will be reindexed to match DataFrame index.\n",
      "  \"\"\"Entry point for launching an IPython kernel.\n"
     ]
    },
    {
     "data": {
      "text/plain": [
       "45.3322962962963"
      ]
     },
     "execution_count": 15,
     "metadata": {},
     "output_type": "execute_result"
    }
   ],
   "source": [
    "new_data = data[data.Day>='2010-03-01'][data.Day<='2012-05-31']\n",
    "new_data['Average temperature (°F)'].mean()"
   ]
  },
  {
   "cell_type": "code",
   "execution_count": 16,
   "metadata": {},
   "outputs": [],
   "source": [
    "avg_temp = 45.33"
   ]
  },
  {
   "cell_type": "markdown",
   "metadata": {},
   "source": [
    "### Find the range of averange temperature  on Dec 2010 "
   ]
  },
  {
   "cell_type": "code",
   "execution_count": 17,
   "metadata": {},
   "outputs": [
    {
     "name": "stderr",
     "output_type": "stream",
     "text": [
      "/home/user/.local/lib/python3.5/site-packages/ipykernel_launcher.py:1: UserWarning: Boolean Series key will be reindexed to match DataFrame index.\n",
      "  \"\"\"Entry point for launching an IPython kernel.\n"
     ]
    },
    {
     "data": {
      "text/plain": [
       "44.8"
      ]
     },
     "execution_count": 17,
     "metadata": {},
     "output_type": "execute_result"
    }
   ],
   "source": [
    "new_data = data[data.Day>='2010-12-01'][data.Day<='2010-12-31']\n",
    "new_data['Average temperature (°F)'].max()-new_data['Average temperature (°F)'].min()"
   ]
  },
  {
   "cell_type": "code",
   "execution_count": 18,
   "metadata": {},
   "outputs": [],
   "source": [
    "temp_range = 44.8"
   ]
  },
  {
   "cell_type": "markdown",
   "metadata": {},
   "source": [
    "### Out of all available records which day has the highest difference between maximum_pressure and minimum_pressure\n",
    "    - assign the date in string format as 'yyyy-mm-dd'. Make sure you enclose it with single quote"
   ]
  },
  {
   "cell_type": "code",
   "execution_count": 19,
   "metadata": {},
   "outputs": [
    {
     "data": {
      "text/html": [
       "<div>\n",
       "<style scoped>\n",
       "    .dataframe tbody tr th:only-of-type {\n",
       "        vertical-align: middle;\n",
       "    }\n",
       "\n",
       "    .dataframe tbody tr th {\n",
       "        vertical-align: top;\n",
       "    }\n",
       "\n",
       "    .dataframe thead th {\n",
       "        text-align: right;\n",
       "    }\n",
       "</style>\n",
       "<table border=\"1\" class=\"dataframe\">\n",
       "  <thead>\n",
       "    <tr style=\"text-align: right;\">\n",
       "      <th></th>\n",
       "      <th>Day</th>\n",
       "      <th>Average temperature (°F)</th>\n",
       "      <th>Average humidity (%)</th>\n",
       "      <th>Average dewpoint (°F)</th>\n",
       "      <th>Average barometer (in)</th>\n",
       "      <th>Average windspeed (mph)</th>\n",
       "      <th>Average gustspeed (mph)</th>\n",
       "      <th>Average direction (°deg)</th>\n",
       "      <th>Rainfall for month (in)</th>\n",
       "      <th>Rainfall for year (in)</th>\n",
       "      <th>...</th>\n",
       "      <th>Minimum humidity (%)</th>\n",
       "      <th>Maximum pressure</th>\n",
       "      <th>Minimum pressure</th>\n",
       "      <th>Maximum windspeed (mph)</th>\n",
       "      <th>Maximum gust speed (mph)</th>\n",
       "      <th>Maximum heat index (°F)</th>\n",
       "      <th>year</th>\n",
       "      <th>month</th>\n",
       "      <th>date</th>\n",
       "      <th>max_pres_diff</th>\n",
       "    </tr>\n",
       "  </thead>\n",
       "  <tbody>\n",
       "    <tr>\n",
       "      <th>3067</th>\n",
       "      <td>2018-03-23</td>\n",
       "      <td>42.0</td>\n",
       "      <td>59</td>\n",
       "      <td>28.1</td>\n",
       "      <td>29.5</td>\n",
       "      <td>12.9</td>\n",
       "      <td>19.0</td>\n",
       "      <td>279</td>\n",
       "      <td>0.09</td>\n",
       "      <td>0.09</td>\n",
       "      <td>...</td>\n",
       "      <td>20</td>\n",
       "      <td>29.868</td>\n",
       "      <td>13.266</td>\n",
       "      <td>27.6</td>\n",
       "      <td>38.0</td>\n",
       "      <td>51.4</td>\n",
       "      <td>2018</td>\n",
       "      <td>3</td>\n",
       "      <td>23</td>\n",
       "      <td>16.602</td>\n",
       "    </tr>\n",
       "  </tbody>\n",
       "</table>\n",
       "<p>1 rows × 24 columns</p>\n",
       "</div>"
      ],
      "text/plain": [
       "            Day  Average temperature (°F)  Average humidity (%)  \\\n",
       "3067 2018-03-23                      42.0                    59   \n",
       "\n",
       "      Average dewpoint (°F)  Average barometer (in)  Average windspeed (mph)  \\\n",
       "3067                   28.1                    29.5                     12.9   \n",
       "\n",
       "      Average gustspeed (mph)  Average direction (°deg)  \\\n",
       "3067                     19.0                       279   \n",
       "\n",
       "      Rainfall for month (in)  Rainfall for year (in)  ...  \\\n",
       "3067                     0.09                    0.09  ...   \n",
       "\n",
       "      Minimum humidity (%)  Maximum pressure   Minimum pressure   \\\n",
       "3067                    20             29.868             13.266   \n",
       "\n",
       "      Maximum windspeed (mph)  Maximum gust speed (mph)  \\\n",
       "3067                     27.6                      38.0   \n",
       "\n",
       "      Maximum heat index (°F)  year  month  date  max_pres_diff  \n",
       "3067                     51.4  2018      3    23         16.602  \n",
       "\n",
       "[1 rows x 24 columns]"
      ]
     },
     "execution_count": 19,
     "metadata": {},
     "output_type": "execute_result"
    }
   ],
   "source": [
    "data['max_pres_diff'] = data['Maximum pressure ']-data['Minimum pressure ']\n",
    "data[data.max_pres_diff == data.max_pres_diff.max()]"
   ]
  },
  {
   "cell_type": "code",
   "execution_count": 20,
   "metadata": {},
   "outputs": [],
   "source": [
    "max_p_range_day = '2018-03-23'"
   ]
  },
  {
   "cell_type": "markdown",
   "metadata": {},
   "source": [
    "### How many days falls under median (i.e equal to median value) of barrometer reading."
   ]
  },
  {
   "cell_type": "code",
   "execution_count": 23,
   "metadata": {},
   "outputs": [
    {
     "data": {
      "text/plain": [
       "(534, 24)"
      ]
     },
     "execution_count": 23,
     "metadata": {},
     "output_type": "execute_result"
    }
   ],
   "source": [
    "data[data['Average barometer (in)']==data['Average barometer (in)'].median()].shape"
   ]
  },
  {
   "cell_type": "code",
   "execution_count": 24,
   "metadata": {},
   "outputs": [],
   "source": [
    "median_b_days =   534      "
   ]
  },
  {
   "cell_type": "markdown",
   "metadata": {},
   "source": [
    "### Out of all the available records how many days are within one standard deviation of average temperaturem"
   ]
  },
  {
   "cell_type": "code",
   "execution_count": 25,
   "metadata": {},
   "outputs": [
    {
     "data": {
      "text/plain": [
       "(2092, 24)"
      ]
     },
     "execution_count": 25,
     "metadata": {},
     "output_type": "execute_result"
    }
   ],
   "source": [
    "std = round(np.std(data['Average temperature (°F)']),2)\n",
    "mean = round(np.mean(data['Average temperature (°F)']),2)\n",
    "\n",
    "data[(data['Average temperature (°F)']>(mean-std))&(data['Average temperature (°F)']<(mean+std))].shape"
   ]
  },
  {
   "cell_type": "code",
   "execution_count": 26,
   "metadata": {},
   "outputs": [],
   "source": [
    "num_days_std =  2092"
   ]
  },
  {
   "cell_type": "markdown",
   "metadata": {},
   "source": [
    "## Once you are done with your solution make sure you have saved the notebook (ctrl + s)"
   ]
  },
  {
   "cell_type": "code",
   "execution_count": null,
   "metadata": {},
   "outputs": [],
   "source": []
  }
 ],
 "metadata": {
  "kernelspec": {
   "display_name": "Python 3",
   "language": "python",
   "name": "python3"
  },
  "language_info": {
   "codemirror_mode": {
    "name": "ipython",
    "version": 3
   },
   "file_extension": ".py",
   "mimetype": "text/x-python",
   "name": "python",
   "nbconvert_exporter": "python",
   "pygments_lexer": "ipython3",
   "version": "3.7.3"
  }
 },
 "nbformat": 4,
 "nbformat_minor": 2
}
