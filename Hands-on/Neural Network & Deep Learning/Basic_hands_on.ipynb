{
 "cells": [
  {
   "cell_type": "markdown",
   "metadata": {
    "colab_type": "text",
    "id": "ld2wHkzA8K2e"
   },
   "source": [
    "- Import numpy as np and pandas as pd"
   ]
  },
  {
   "cell_type": "code",
   "execution_count": 1,
   "metadata": {
    "colab": {
     "autoexec": {
      "startup": false,
      "wait_interval": 0
     }
    },
    "colab_type": "code",
    "id": "0zQIrieYs0N9"
   },
   "outputs": [],
   "source": [
    "import numpy as np\n",
    "import pandas as pd\n",
    "from sklearn.model_selection import train_test_split\n",
    "from sklearn.datasets import load_breast_cancer"
   ]
  },
  {
   "cell_type": "markdown",
   "metadata": {
    "colab_type": "text",
    "id": "5wsb69rS8abF"
   },
   "source": [
    "Define method initialiseNetwork() initilise weights with zeros of shape(num_features, 1) and also bias b to zero\n",
    "- parameters: num_features(number of input features)\n",
    "- returns : dictionary of weight vector and bias"
   ]
  },
  {
   "cell_type": "code",
   "execution_count": 2,
   "metadata": {
    "colab": {
     "autoexec": {
      "startup": false,
      "wait_interval": 0
     }
    },
    "colab_type": "code",
    "id": "i-wLAlQb2Drk"
   },
   "outputs": [],
   "source": [
    "def initialiseNetwork(num_features):\n",
    "    W = np.zeros((num_features,1))\n",
    "    b = 0\n",
    "    parameters = {\"W\": W, \"b\": b}\n",
    "    return parameters"
   ]
  },
  {
   "cell_type": "markdown",
   "metadata": {
    "colab_type": "text",
    "id": "g2iUMm9XEW-s"
   },
   "source": [
    "define function sigmoid for the input z.  \n",
    "- parameters: z\n",
    "- returns: $1/(1+e^{(-z)})$"
   ]
  },
  {
   "cell_type": "code",
   "execution_count": 3,
   "metadata": {
    "colab": {
     "autoexec": {
      "startup": false,
      "wait_interval": 0
     }
    },
    "colab_type": "code",
    "id": "a_KB1o_e9S8F"
   },
   "outputs": [],
   "source": [
    "def sigmoid(z):\n",
    "    a = 1/(1+np.exp(-z))\n",
    "    return a"
   ]
  },
  {
   "cell_type": "markdown",
   "metadata": {
    "colab_type": "text",
    "id": "G6TAbtJAFSva"
   },
   "source": [
    "Define method forwardPropagation() which implements forward propagtion defined as Z = (W.T dot_product X) + b, A = sigmoid(Z)\n",
    "- parameters: X, parameters\n",
    "- returns: A\n"
   ]
  },
  {
   "cell_type": "code",
   "execution_count": 4,
   "metadata": {
    "colab": {
     "autoexec": {
      "startup": false,
      "wait_interval": 0
     }
    },
    "colab_type": "code",
    "id": "l6FZS2nj92ev"
   },
   "outputs": [],
   "source": [
    "def forwardPropagation(X, Y,parameters):\n",
    "  \n",
    "    W = parameters[\"W\"]\n",
    "    b = parameters[\"b\"]\n",
    "    Z = np.dot(W.T,X) + b\n",
    "    A = sigmoid(Z)\n",
    "    return A"
   ]
  },
  {
   "cell_type": "markdown",
   "metadata": {
    "colab_type": "text",
    "id": "IhMJx-ezHXWx"
   },
   "source": [
    "Define function cost() which calculate the cost given by  −(sum(Y\\*log(A)+(1−Y)\\*log(1−A)))/num_samples, here * is elementwise product\n",
    "- parameters: A,Y,num_samples(number of samples)\n",
    "- returns: cost"
   ]
  },
  {
   "cell_type": "code",
   "execution_count": 5,
   "metadata": {
    "colab": {
     "autoexec": {
      "startup": false,
      "wait_interval": 0
     }
    },
    "colab_type": "code",
    "id": "n52Rl7oCBj1L"
   },
   "outputs": [],
   "source": [
    "def cost(A, Y, num_samples):\n",
    "    cost = 1/num_samples *np.sum(Y*np.log(A) + (1-Y)*(np.log(1-A)))\n",
    "    return cost"
   ]
  },
  {
   "cell_type": "markdown",
   "metadata": {
    "colab_type": "text",
    "id": "jxXnhjd6ItFC"
   },
   "source": [
    "Define method backPropgation() to get the derivatives of weigths and bias\n",
    "- parameters: X,Y,A,num_samples\n",
    "- returns: dW,db"
   ]
  },
  {
   "cell_type": "code",
   "execution_count": 6,
   "metadata": {
    "colab": {
     "autoexec": {
      "startup": false,
      "wait_interval": 0
     }
    },
    "colab_type": "code",
    "id": "U0ijyoESSGRT"
   },
   "outputs": [],
   "source": [
    "def backPropagration(X, Y, A, num_samples):\n",
    "    dZ =   A-Y                        \n",
    "    dW =   (np.dot(X,dZ.T))/num_samples                             #(X dot_product dZ.T)/num_samples\n",
    "    db =   np.sum(dZ)/num_samples\n",
    "                              #sum(dZ)/num_samples\n",
    "    return dW, db\n",
    "  "
   ]
  },
  {
   "cell_type": "markdown",
   "metadata": {
    "colab_type": "text",
    "id": "Yrclev_VKliY"
   },
   "source": [
    "Define function updateParameters() to update current parameters with its derivatives  \n",
    "w = w - learning_rate \\* dw  \n",
    "b = b - learning_rate \\* db  \n",
    "parameters: parameters,dW,db, learning_rate   \n",
    "returns: dictionary of updated parameters"
   ]
  },
  {
   "cell_type": "code",
   "execution_count": 7,
   "metadata": {
    "colab": {
     "autoexec": {
      "startup": false,
      "wait_interval": 0
     }
    },
    "colab_type": "code",
    "id": "9K1ubERjUdKj"
   },
   "outputs": [],
   "source": [
    "def updateParameters(parameters, dW, db, learning_rate):\n",
    "    W = parameters[\"W\"] - (learning_rate * dW)\n",
    "    b = parameters[\"b\"] - (learning_rate * db)\n",
    "    return {\"W\": W, \"b\": b}\n",
    "  "
   ]
  },
  {
   "cell_type": "markdown",
   "metadata": {
    "colab_type": "text",
    "id": "zKd5Nsvht5W7"
   },
   "source": [
    "Define the model for forward propagation  \n",
    "- parameters: X,Y, num_iter(number of iterations), learning_rate\n",
    "- returns: parameters(dictionary of updated weights and bias)"
   ]
  },
  {
   "cell_type": "code",
   "execution_count": 8,
   "metadata": {
    "colab": {
     "autoexec": {
      "startup": false,
      "wait_interval": 0
     }
    },
    "colab_type": "code",
    "id": "_QP4zvtoWkzw"
   },
   "outputs": [],
   "source": [
    "def model(X, Y, num_iter, learning_rate):\n",
    "    num_features = X.shape[0]\n",
    "    num_samples = float(X.shape[1])\n",
    "    parameters = initialiseNetwork(num_features)\n",
    "    for i in range(num_iter):\n",
    "        A = forwardPropagation(X, Y, parameters)\n",
    "        if(i%100 == 0):\n",
    "            print(\"cost after {} iteration: {}\".format(i, cost(A, Y, num_samples)))\n",
    "        dW, db = backPropagration(X, Y, A, num_samples)\n",
    "        parameters = updateParameters(parameters, dW, db, learning_rate)\n",
    "    return parameters \n",
    "    \n",
    "  "
   ]
  },
  {
   "cell_type": "markdown",
   "metadata": {
    "colab_type": "text",
    "id": "ISQKBz3DoY_h"
   },
   "source": [
    "- Run the below cell to define the function to predict the output.It takes updated parameters and input data as function parameters and returns the predicted output"
   ]
  },
  {
   "cell_type": "code",
   "execution_count": 9,
   "metadata": {
    "colab": {
     "autoexec": {
      "startup": false,
      "wait_interval": 0
     }
    },
    "colab_type": "code",
    "id": "RdK-4V8dZWmZ"
   },
   "outputs": [],
   "source": [
    "def predict(W, b, X):\n",
    "    Z = np.dot(W.T,X) + b\n",
    "    Y = np.array([1 if y > 0.5 else 0 for y in sigmoid(Z[0])]).reshape(1,len(Z[0]))\n",
    "    return Y"
   ]
  },
  {
   "cell_type": "markdown",
   "metadata": {
    "colab_type": "text",
    "id": "RN1AAlHbo7XF"
   },
   "source": [
    "- The code in the below cell loads the breast cancer data set from sklearn.\n",
    "- The input variable(X_cancer) is about the dimensions of tumor cell and targrt variable(y_cancer) classifies tumor as malignant(0) or benign(1)"
   ]
  },
  {
   "cell_type": "code",
   "execution_count": 10,
   "metadata": {
    "colab": {
     "autoexec": {
      "startup": false,
      "wait_interval": 0
     }
    },
    "colab_type": "code",
    "id": "ai5s9pFFgG5g"
   },
   "outputs": [],
   "source": [
    "(X_cancer, y_cancer) = load_breast_cancer(return_X_y = True)\n"
   ]
  },
  {
   "cell_type": "markdown",
   "metadata": {
    "colab_type": "text",
    "id": "jUzT0JXXszzy"
   },
   "source": [
    "- Split the data into train and test set using train_test_split(). Set the random state to 25. Refer the code snippet in topic 4"
   ]
  },
  {
   "cell_type": "code",
   "execution_count": 11,
   "metadata": {
    "colab": {
     "autoexec": {
      "startup": false,
      "wait_interval": 0
     }
    },
    "colab_type": "code",
    "id": "nw_FdO__3dsF"
   },
   "outputs": [],
   "source": [
    "X_train, X_test, y_train, y_test = train_test_split(X_cancer, y_cancer,\n",
    "                                                   random_state = 25)"
   ]
  },
  {
   "cell_type": "markdown",
   "metadata": {
    "colab_type": "text",
    "id": "t-ZRhhx0sGR7"
   },
   "source": [
    "Since the dimensions of tumor is not uniform you need to normalize the data before feeding to the network\n",
    "- The below function is used to normalize the input data."
   ]
  },
  {
   "cell_type": "code",
   "execution_count": 12,
   "metadata": {
    "colab": {
     "autoexec": {
      "startup": false,
      "wait_interval": 0
     }
    },
    "colab_type": "code",
    "id": "VR2PXnUDXtNd"
   },
   "outputs": [],
   "source": [
    "def normalize(data):\n",
    "    col_max = np.max(data, axis = 0)\n",
    "    col_min = np.min(data, axis = 0)\n",
    "    return np.divide(data - col_min, col_max - col_min )"
   ]
  },
  {
   "cell_type": "markdown",
   "metadata": {
    "colab_type": "text",
    "id": "39IvMOIzt_fS"
   },
   "source": [
    "- Normalize X_train and X_test and assign it to X_train_n and X_test_n respectively"
   ]
  },
  {
   "cell_type": "code",
   "execution_count": 13,
   "metadata": {
    "colab": {
     "autoexec": {
      "startup": false,
      "wait_interval": 0
     }
    },
    "colab_type": "code",
    "id": "ZgXdiH5QIAjV"
   },
   "outputs": [],
   "source": [
    "X_train_n = normalize(X_train)\n",
    "X_test_n =  normalize(X_test)"
   ]
  },
  {
   "cell_type": "markdown",
   "metadata": {
    "colab_type": "text",
    "id": "agS5nYAtuUng"
   },
   "source": [
    "- Transpose X_train_n and X_test_n so that rows represents features and column represents the samples\n",
    "- Reshape Y_train and y_test into row vector whose length is equal to number of samples.Use np.reshape()\n",
    "\n"
   ]
  },
  {
   "cell_type": "code",
   "execution_count": 14,
   "metadata": {
    "colab": {
     "autoexec": {
      "startup": false,
      "wait_interval": 0
     }
    },
    "colab_type": "code",
    "id": "yNFw2Gos9zZe"
   },
   "outputs": [],
   "source": [
    "X_trainT = X_train_n.T\n",
    "X_testT =  X_test_n.T\n",
    "y_trainT = y_train.reshape((1,426))\n",
    "y_testT =  y_test.reshape((1,143))"
   ]
  },
  {
   "cell_type": "markdown",
   "metadata": {
    "colab_type": "text",
    "id": "GP3WCFJbv-xE"
   },
   "source": [
    "Train the network using X_trainT,y_trainT with number of iterations 4000 and learning rate 0.75"
   ]
  },
  {
   "cell_type": "code",
   "execution_count": 15,
   "metadata": {
    "colab": {
     "autoexec": {
      "startup": false,
      "wait_interval": 0
     }
    },
    "colab_type": "code",
    "id": "6mGd_FK7GqHu"
   },
   "outputs": [
    {
     "name": "stdout",
     "output_type": "stream",
     "text": [
      "cost after 0 iteration: -0.6931471805599453\n",
      "cost after 100 iteration: -0.24382767353051085\n",
      "cost after 200 iteration: -0.18414919195134818\n",
      "cost after 300 iteration: -0.15658734934859972\n",
      "cost after 400 iteration: -0.1396752246321806\n",
      "cost after 500 iteration: -0.1278729526958286\n",
      "cost after 600 iteration: -0.1190088775113677\n",
      "cost after 700 iteration: -0.11202667072700777\n",
      "cost after 800 iteration: -0.10633924623930974\n",
      "cost after 900 iteration: -0.10158933661241841\n",
      "cost after 1000 iteration: -0.09754476494426205\n",
      "cost after 1100 iteration: -0.09404694336475466\n",
      "cost after 1200 iteration: -0.09098323338346231\n",
      "cost after 1300 iteration: -0.08827107206470108\n",
      "cost after 1400 iteration: -0.08584834873491792\n",
      "cost after 1500 iteration: -0.08366730760137953\n",
      "cost after 1600 iteration: -0.08169053991796825\n",
      "cost after 1700 iteration: -0.07988826663984762\n",
      "cost after 1800 iteration: -0.07823644647304041\n",
      "cost after 1900 iteration: -0.07671542796224083\n",
      "cost after 2000 iteration: -0.07530896965280097\n",
      "cost after 2100 iteration: -0.07400351504064749\n",
      "cost after 2200 iteration: -0.07278764749502994\n",
      "cost after 2300 iteration: -0.07165167461890912\n",
      "cost after 2400 iteration: -0.07058730721875792\n",
      "cost after 2500 iteration: -0.06958740844345282\n",
      "cost after 2600 iteration: -0.06864579565976345\n",
      "cost after 2700 iteration: -0.06775708244509038\n",
      "cost after 2800 iteration: -0.0669165514381763\n",
      "cost after 2900 iteration: -0.06612005116932484\n",
      "cost after 3000 iteration: -0.06536391170175199\n",
      "cost after 3100 iteration: -0.06464487515951275\n",
      "cost after 3200 iteration: -0.06396003813267387\n",
      "cost after 3300 iteration: -0.06330680363111521\n",
      "cost after 3400 iteration: -0.06268284076971896\n",
      "cost after 3500 iteration: -0.062086050755468594\n",
      "cost after 3600 iteration: -0.061514538043587336\n",
      "cost after 3700 iteration: -0.06096658575859407\n",
      "cost after 3800 iteration: -0.06044063465393137\n",
      "cost after 3900 iteration: -0.0599352650229906\n"
     ]
    }
   ],
   "source": [
    "parameters =   model(X_trainT,y_trainT, 4000,0.75)                  #call the model() function with parametrs mentioned in the above cell"
   ]
  },
  {
   "cell_type": "markdown",
   "metadata": {
    "colab_type": "text",
    "id": "_YEgmlbxx11F"
   },
   "source": [
    "Predict the output of test and train data using X_trainT and X_testT using predict() method> Use the parametes returned from the trained model\n"
   ]
  },
  {
   "cell_type": "code",
   "execution_count": 16,
   "metadata": {
    "colab": {
     "autoexec": {
      "startup": false,
      "wait_interval": 0
     }
    },
    "colab_type": "code",
    "id": "2GMgr9M8LqTn"
   },
   "outputs": [],
   "source": [
    "yPredTrain = predict(parameters['W'],parameters['b'],X_trainT)   # pass weigths and bias from parameters dictionary and X_trainT as input to the function\n",
    "yPredTest = predict(parameters['W'],parameters['b'],X_testT)    # pass the same parameters but X_testT as input data"
   ]
  },
  {
   "cell_type": "markdown",
   "metadata": {
    "colab_type": "text",
    "id": "Uv1oAgLW1a1E"
   },
   "source": [
    "Run the below cell print the accuracy of model on train and test data."
   ]
  },
  {
   "cell_type": "code",
   "execution_count": 17,
   "metadata": {
    "colab": {
     "autoexec": {
      "startup": false,
      "wait_interval": 0
     }
    },
    "colab_type": "code",
    "id": "nIX7sMq7QmCs"
   },
   "outputs": [
    {
     "name": "stdout",
     "output_type": "stream",
     "text": [
      "train accuracy: 98.59154929577464 %\n",
      "test accuracy: 93.00699300699301 %\n"
     ]
    }
   ],
   "source": [
    "accuracy_train = 100 - np.mean(np.abs(yPredTrain - y_trainT)) * 100\n",
    "accuracy_test = 100 - np.mean(np.abs(yPredTest - y_testT)) * 100\n",
    "print(\"train accuracy: {} %\".format(accuracy_train))\n",
    "print(\"test accuracy: {} %\".format(accuracy_test))\n",
    "with open(\"Output.txt\", \"w\") as text_file:\n",
    "  text_file.write(\"train= %f\\n\" % accuracy_train)\n",
    "  text_file.write(\"test= %f\" % accuracy_test)"
   ]
  },
  {
   "cell_type": "code",
   "execution_count": null,
   "metadata": {
    "colab": {
     "autoexec": {
      "startup": false,
      "wait_interval": 0
     }
    },
    "colab_type": "code",
    "id": "bzcBM4bUTV5Y"
   },
   "outputs": [],
   "source": []
  }
 ],
 "metadata": {
  "colab": {
   "collapsed_sections": [],
   "default_view": {},
   "name": "basic_neural_net_question.ipynb",
   "provenance": [
    {
     "file_id": "1TvidTe-M5zDO1MDKJCBMnkMGgXbCxYA4",
     "timestamp": 1525431729338
    }
   ],
   "version": "0.3.2",
   "views": {}
  },
  "kernelspec": {
   "display_name": "Python 3",
   "language": "python",
   "name": "python3"
  },
  "language_info": {
   "codemirror_mode": {
    "name": "ipython",
    "version": 3
   },
   "file_extension": ".py",
   "mimetype": "text/x-python",
   "name": "python",
   "nbconvert_exporter": "python",
   "pygments_lexer": "ipython3",
   "version": "3.6.7"
  }
 },
 "nbformat": 4,
 "nbformat_minor": 1
}
