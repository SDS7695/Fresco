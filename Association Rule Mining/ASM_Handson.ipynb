{
 "cells": [
  {
   "cell_type": "code",
   "execution_count": 1,
   "metadata": {},
   "outputs": [],
   "source": [
    "# Welcome to the first Hands On association rule mining. In this exercise , you will try out ASM regression using mlxtend library that you have learnt in the course. We have created this Python Notebook with all the necessary things needed for completing this exercise. \n",
    "\n",
    "#You have to write your code in between the are mentioned\n",
    "\n",
    "### Start Code\n",
    "# Your Code here\n",
    "### End Code\n",
    " \n",
    "#To run the code in each cell click on the cell and press **shift + enter** \n"
   ]
  },
  {
   "cell_type": "code",
   "execution_count": 2,
   "metadata": {},
   "outputs": [],
   "source": [
    "# Run the below cell to load the data on which you will be performing ASM.\n",
    "# The data has the records of items purcahed where each element of 'Data' refers to a single transaction\n"
   ]
  },
  {
   "cell_type": "code",
   "execution_count": 3,
   "metadata": {},
   "outputs": [],
   "source": [
    "Data = [['Power Bank', 'Screen Guard' , 'Travel Charger'],\n",
    " ['Screen Guard', 'Bluetooth Headset', 'Mobile Cover'],\n",
    " ['Screen Guard','Arm Band','Mobile Cover'],\n",
    " ['Power Bank','Screen Guard','Leather Pouch'],\n",
    " ['Bluetooth Headset', 'Power Bank' , 'Mobile Cover']]\n",
    "\n"
   ]
  },
  {
   "cell_type": "code",
   "execution_count": 4,
   "metadata": {},
   "outputs": [],
   "source": [
    "# Run the below cell to import necessary packages to perform Association Rule Mining"
   ]
  },
  {
   "cell_type": "code",
   "execution_count": 5,
   "metadata": {},
   "outputs": [],
   "source": [
    "from mlxtend.frequent_patterns import apriori\n",
    "from mlxtend.frequent_patterns import association_rules\n",
    "from mlxtend.preprocessing import TransactionEncoder\n",
    "import pandas as pd"
   ]
  },
  {
   "cell_type": "code",
   "execution_count": 6,
   "metadata": {},
   "outputs": [],
   "source": [
    "# - initalize TransactionEncoder as te\n",
    "# - fit and transform the transaction data('Data') to perform Transaction Encoding and store it in te_ary\n",
    "# - create a dataframe of Transaction Encoded Data\n",
    "# - Find all frequent item sets with minimum support 0.1 using apriori function  \n",
    "# **Follow the code snippet in the course on implementing the above steps**\n"
   ]
  },
  {
   "cell_type": "code",
   "execution_count": 7,
   "metadata": {},
   "outputs": [],
   "source": [
    "###Start code here\n",
    "\n",
    "te = TransactionEncoder()\n",
    "te_ary = te.fit_transform(Data)\n",
    "dataFrame = pd.DataFrame(te_ary,columns=te.columns_)\n",
    "frequent_itemsets = apriori(dataFrame, min_support=0.1, use_colnames=True)\n",
    "\n",
    "\n",
    "\n",
    "###End code(approx 4 lines)\n"
   ]
  },
  {
   "cell_type": "code",
   "execution_count": 8,
   "metadata": {},
   "outputs": [],
   "source": [
    "# - generate association rule for all the itemsets(frequent_itemsets) with minimum confidence 0.7"
   ]
  },
  {
   "cell_type": "code",
   "execution_count": 10,
   "metadata": {},
   "outputs": [
    {
     "name": "stdout",
     "output_type": "stream",
     "text": [
      "                          antecedents                   consequents  \\\n",
      "0                          (Arm Band)                (Mobile Cover)   \n",
      "1                          (Arm Band)                (Screen Guard)   \n",
      "2                 (Bluetooth Headset)                (Mobile Cover)   \n",
      "3                     (Leather Pouch)                  (Power Bank)   \n",
      "4                     (Leather Pouch)                (Screen Guard)   \n",
      "5                    (Travel Charger)                  (Power Bank)   \n",
      "6                    (Travel Charger)                (Screen Guard)   \n",
      "7            (Arm Band, Screen Guard)                (Mobile Cover)   \n",
      "8            (Arm Band, Mobile Cover)                (Screen Guard)   \n",
      "9                          (Arm Band)  (Mobile Cover, Screen Guard)   \n",
      "10         (Power Bank, Mobile Cover)           (Bluetooth Headset)   \n",
      "11    (Power Bank, Bluetooth Headset)                (Mobile Cover)   \n",
      "12  (Screen Guard, Bluetooth Headset)                (Mobile Cover)   \n",
      "13        (Leather Pouch, Power Bank)                (Screen Guard)   \n",
      "14      (Leather Pouch, Screen Guard)                  (Power Bank)   \n",
      "15                    (Leather Pouch)    (Power Bank, Screen Guard)   \n",
      "16       (Power Bank, Travel Charger)                (Screen Guard)   \n",
      "17     (Travel Charger, Screen Guard)                  (Power Bank)   \n",
      "18                   (Travel Charger)    (Power Bank, Screen Guard)   \n",
      "\n",
      "    antecedent support  consequent support  support  confidence      lift  \\\n",
      "0                  0.2                 0.6      0.2         1.0  1.666667   \n",
      "1                  0.2                 0.8      0.2         1.0  1.250000   \n",
      "2                  0.4                 0.6      0.4         1.0  1.666667   \n",
      "3                  0.2                 0.6      0.2         1.0  1.666667   \n",
      "4                  0.2                 0.8      0.2         1.0  1.250000   \n",
      "5                  0.2                 0.6      0.2         1.0  1.666667   \n",
      "6                  0.2                 0.8      0.2         1.0  1.250000   \n",
      "7                  0.2                 0.6      0.2         1.0  1.666667   \n",
      "8                  0.2                 0.8      0.2         1.0  1.250000   \n",
      "9                  0.2                 0.4      0.2         1.0  2.500000   \n",
      "10                 0.2                 0.4      0.2         1.0  2.500000   \n",
      "11                 0.2                 0.6      0.2         1.0  1.666667   \n",
      "12                 0.2                 0.6      0.2         1.0  1.666667   \n",
      "13                 0.2                 0.8      0.2         1.0  1.250000   \n",
      "14                 0.2                 0.6      0.2         1.0  1.666667   \n",
      "15                 0.2                 0.4      0.2         1.0  2.500000   \n",
      "16                 0.2                 0.8      0.2         1.0  1.250000   \n",
      "17                 0.2                 0.6      0.2         1.0  1.666667   \n",
      "18                 0.2                 0.4      0.2         1.0  2.500000   \n",
      "\n",
      "    leverage  conviction  \n",
      "0       0.08         inf  \n",
      "1       0.04         inf  \n",
      "2       0.16         inf  \n",
      "3       0.08         inf  \n",
      "4       0.04         inf  \n",
      "5       0.08         inf  \n",
      "6       0.04         inf  \n",
      "7       0.08         inf  \n",
      "8       0.04         inf  \n",
      "9       0.12         inf  \n",
      "10      0.12         inf  \n",
      "11      0.08         inf  \n",
      "12      0.08         inf  \n",
      "13      0.04         inf  \n",
      "14      0.08         inf  \n",
      "15      0.12         inf  \n",
      "16      0.04         inf  \n",
      "17      0.08         inf  \n",
      "18      0.12         inf  \n"
     ]
    }
   ],
   "source": [
    "from mlxtend.frequent_patterns import association_rules\n",
    "###Start code here\n",
    "association_rule = association_rules(frequent_itemsets,min_threshold=0.7)\n",
    "print(association_rule)   \n",
    "###End code(approx 2 lines)\n"
   ]
  },
  {
   "cell_type": "code",
   "execution_count": null,
   "metadata": {},
   "outputs": [],
   "source": [
    "# - What is the consequent support value for Leather Pouch -> Screen Guard ?\n",
    "# - What is the lift value for (Arm Band, Mobile Cover)->(Screen Guard) ?\n",
    "# - In how many scenarios do you see 2 items (dualtons) in the antecedent set ?\n",
    "# - assign the above abservations to respective variable in the cell below\n"
   ]
  },
  {
   "cell_type": "code",
   "execution_count": 11,
   "metadata": {},
   "outputs": [],
   "source": [
    "###Start code here\n",
    "support = 0.8\n",
    "lift = 1.25\n",
    "dualtons = 9\n",
    "###End code(approx 3 lines)\n",
    "with open(\"output.txt\", \"w\") as text_file:\n",
    "    text_file.write(\"support= %f\\n\" % support)\n",
    "    text_file.write(\"lift= %f\\n\" % lift)\n",
    "    text_file.write(\"dualtons= %f\\n\" % dualtons)\n"
   ]
  },
  {
   "cell_type": "code",
   "execution_count": null,
   "metadata": {},
   "outputs": [],
   "source": []
  }
 ],
 "metadata": {
  "kernelspec": {
   "display_name": "Python 3",
   "language": "python",
   "name": "python3"
  },
  "language_info": {
   "codemirror_mode": {
    "name": "ipython",
    "version": 3
   },
   "file_extension": ".py",
   "mimetype": "text/x-python",
   "name": "python",
   "nbconvert_exporter": "python",
   "pygments_lexer": "ipython3",
   "version": "3.6.7"
  }
 },
 "nbformat": 4,
 "nbformat_minor": 2
}
