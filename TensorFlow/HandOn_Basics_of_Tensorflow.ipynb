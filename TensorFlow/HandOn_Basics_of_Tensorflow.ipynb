{
 "cells": [
  {
   "cell_type": "markdown",
   "metadata": {},
   "source": [
    "Welcome to the first Hands On Exercise on Tensor Flow. In this exercise , you will try out some basic commands that you have learnt in the course. \n",
    "We have created this Python Notebook with all the necessary things needed for completing this exercise. \n",
    "You have to write your code in between the area mentioned \n",
    "\n",
    "`## Start Code` \n",
    "\n",
    "Your Code here \n",
    "\n",
    "`## End Code` "
   ]
  },
  {
   "cell_type": "markdown",
   "metadata": {},
   "source": [
    "Importing the necessary libraries "
   ]
  },
  {
   "cell_type": "code",
   "execution_count": 3,
   "metadata": {
    "colab": {
     "autoexec": {
      "startup": false,
      "wait_interval": 0
     }
    },
    "colab_type": "code",
    "id": "q3j32hbioxDY"
   },
   "outputs": [],
   "source": [
    "import tensorflow as tf\n",
    "import numpy as np"
   ]
  },
  {
   "cell_type": "markdown",
   "metadata": {
    "colab_type": "text",
    "id": "7ra89CtiR9EM"
   },
   "source": [
    "Using numpy initialize two matrix with values **[1,3,4],[3,5,3],[4,5,3]** and **[2,5,7],[3,6,8],[2,6,9]** as **matrix1** and **matrix2** respectively"
   ]
  },
  {
   "cell_type": "code",
   "execution_count": 4,
   "metadata": {
    "colab": {
     "autoexec": {
      "startup": false,
      "wait_interval": 0
     }
    },
    "colab_type": "code",
    "id": "hy7k7ikdptDa"
   },
   "outputs": [],
   "source": [
    "## Start Code \n",
    "\n",
    "matrix1 = np.array([[1,3,4],[3,5,3],[4,5,3]])\n",
    "matrix2 = np.array([[2,5,7],[3,6,8],[2,6,9]] )\n",
    "\n",
    "## End Code "
   ]
  },
  {
   "cell_type": "markdown",
   "metadata": {
    "colab_type": "text",
    "id": "mxnFUwf5ScSb"
   },
   "source": [
    "covert **matrix1** and **matrix2** to **tensorflow object** and call them as **tf_mat1** and **tf_mat2**, make sure to specify datatype as **\"float64\"**"
   ]
  },
  {
   "cell_type": "code",
   "execution_count": 5,
   "metadata": {
    "colab": {
     "autoexec": {
      "startup": false,
      "wait_interval": 0
     }
    },
    "colab_type": "code",
    "id": "5IP6iTLo1clo"
   },
   "outputs": [],
   "source": [
    "## Start Code \n",
    "\n",
    "tf_mat1 = tf.convert_to_tensor(matrix1,dtype='float64')\n",
    "tf_mat2 = tf.convert_to_tensor(matrix2,dtype='float64')\n",
    "\n",
    "## End Code "
   ]
  },
  {
   "cell_type": "markdown",
   "metadata": {
    "colab_type": "text",
    "id": "sgXKcc2rTaHB"
   },
   "source": [
    "initilise **tensorflow variables a and b** with matrix tf_mat1 and tf_mat2 respectively.\n",
    "Also initialize all the variables before performing the operation. "
   ]
  },
  {
   "cell_type": "code",
   "execution_count": 6,
   "metadata": {
    "colab": {
     "autoexec": {
      "startup": false,
      "wait_interval": 0
     }
    },
    "colab_type": "code",
    "id": "fhwQr5IGp9SZ"
   },
   "outputs": [
    {
     "name": "stdout",
     "output_type": "stream",
     "text": [
      "WARNING:tensorflow:From /usr/local/lib/python2.7/dist-packages/tensorflow/python/util/tf_should_use.py:170: initialize_variables (from tensorflow.python.ops.variables) is deprecated and will be removed after 2017-03-02.\n",
      "Instructions for updating:\n",
      "Use `tf.variables_initializer` instead.\n"
     ]
    }
   ],
   "source": [
    "## Start Code\n",
    "\n",
    "a = tf.Variable(tf_mat1)\n",
    "b = tf.Variable(tf_mat2)\n",
    "init = tf.initialize_variables([a,b])\n",
    "\n",
    "## End Code "
   ]
  },
  {
   "cell_type": "markdown",
   "metadata": {
    "colab_type": "text",
    "id": "tKFQ0GJ8UGgo"
   },
   "source": [
    "Perform **elementwise** matrix multiplication on a, b and assign it to **final_mat1** variable "
   ]
  },
  {
   "cell_type": "code",
   "execution_count": 7,
   "metadata": {
    "colab": {
     "autoexec": {
      "startup": false,
      "wait_interval": 0
     }
    },
    "colab_type": "code",
    "id": "8u1ji4vuqAEZ"
   },
   "outputs": [],
   "source": [
    "## Start Code \n",
    "final_mat1 = tf.multiply(a,b)\n",
    "## End Code\n",
    "\n",
    "determinant1 = tf.matrix_determinant(final_mat1)\n",
    "\n",
    " "
   ]
  },
  {
   "cell_type": "markdown",
   "metadata": {
    "colab_type": "text",
    "id": "FMVQViMMUnbi"
   },
   "source": [
    "Perform **dot product** on **matrix a**, and **transpose of b** . "
   ]
  },
  {
   "cell_type": "code",
   "execution_count": 8,
   "metadata": {},
   "outputs": [],
   "source": [
    "## Start Code \n",
    "b_inv = tf.transpose(b)\n",
    "final_mat2 = tf.matmul(a,b_inv)\n",
    "## End Code \n",
    "\n",
    "determinant2 = tf.matrix_determinant(final_mat2)"
   ]
  },
  {
   "cell_type": "markdown",
   "metadata": {
    "colab_type": "text",
    "id": "K0OpL2guVICe"
   },
   "source": [
    "Execute the below piece of code. "
   ]
  },
  {
   "cell_type": "code",
   "execution_count": 9,
   "metadata": {},
   "outputs": [],
   "source": [
    "text_file = open(\"Output.txt\", \"w\")"
   ]
  },
  {
   "cell_type": "code",
   "execution_count": 10,
   "metadata": {},
   "outputs": [],
   "source": [
    "with tf.Session() as sess:\n",
    "    sess.run(init)\n",
    "    with open(\"Output.txt\", \"w\") as text_file:\n",
    "        text_file.write(\"determinant1 %f\\n\" % sess.run(determinant1))\n",
    "        text_file.write(\"determinant2 %f\" % sess.run(determinant2))    "
   ]
  },
  {
   "cell_type": "code",
   "execution_count": null,
   "metadata": {},
   "outputs": [],
   "source": []
  }
 ],
 "metadata": {
  "colab": {
   "collapsed_sections": [],
   "default_view": {},
   "name": "Basics.ipynb",
   "provenance": [],
   "version": "0.3.2",
   "views": {}
  },
  "kernelspec": {
   "display_name": "Python 2",
   "language": "python",
   "name": "python2"
  }
 },
 "nbformat": 4,
 "nbformat_minor": 1
}
